{
 "cells": [
  {
   "cell_type": "code",
   "execution_count": 1,
   "metadata": {},
   "outputs": [],
   "source": [
    "import pandas as pd\n",
    "import numpy as np\n",
    "import preprocessor as pre\n",
    "from datetime import datetime"
   ]
  },
  {
   "cell_type": "markdown",
   "metadata": {},
   "source": [
    "# DATA"
   ]
  },
  {
   "cell_type": "code",
   "execution_count": 2,
   "metadata": {},
   "outputs": [
    {
     "data": {
      "text/html": [
       "<div>\n",
       "<style scoped>\n",
       "    .dataframe tbody tr th:only-of-type {\n",
       "        vertical-align: middle;\n",
       "    }\n",
       "\n",
       "    .dataframe tbody tr th {\n",
       "        vertical-align: top;\n",
       "    }\n",
       "\n",
       "    .dataframe thead th {\n",
       "        text-align: right;\n",
       "    }\n",
       "</style>\n",
       "<table border=\"1\" class=\"dataframe\">\n",
       "  <thead>\n",
       "    <tr style=\"text-align: right;\">\n",
       "      <th></th>\n",
       "      <th>id</th>\n",
       "      <th>text</th>\n",
       "      <th>labels</th>\n",
       "    </tr>\n",
       "  </thead>\n",
       "  <tbody>\n",
       "    <tr>\n",
       "      <th>0</th>\n",
       "      <td>591974898139987968</td>\n",
       "      <td>RT @Economynext: #SriLanka to fly emergency me...</td>\n",
       "      <td>1</td>\n",
       "    </tr>\n",
       "    <tr>\n",
       "      <th>1</th>\n",
       "      <td>591979323164233729</td>\n",
       "      <td>India committed in aid to Nepal: President Pra...</td>\n",
       "      <td>-1</td>\n",
       "    </tr>\n",
       "    <tr>\n",
       "      <th>10</th>\n",
       "      <td>591977175768698881</td>\n",
       "      <td>RT @iamamkay: need all out support @nytimes: N...</td>\n",
       "      <td>-1</td>\n",
       "    </tr>\n",
       "    <tr>\n",
       "      <th>100</th>\n",
       "      <td>591996410792321024</td>\n",
       "      <td>RT @MERCYMalaysia: MERCY Malaysia will be resp...</td>\n",
       "      <td>-1</td>\n",
       "    </tr>\n",
       "    <tr>\n",
       "      <th>1000</th>\n",
       "      <td>592204836038311937</td>\n",
       "      <td>RT @AmeriCares: #Nepal is a very poor country ...</td>\n",
       "      <td>-1</td>\n",
       "    </tr>\n",
       "  </tbody>\n",
       "</table>\n",
       "</div>"
      ],
      "text/plain": [
       "                      id                                               text  \\\n",
       "0     591974898139987968  RT @Economynext: #SriLanka to fly emergency me...   \n",
       "1     591979323164233729  India committed in aid to Nepal: President Pra...   \n",
       "10    591977175768698881  RT @iamamkay: need all out support @nytimes: N...   \n",
       "100   591996410792321024  RT @MERCYMalaysia: MERCY Malaysia will be resp...   \n",
       "1000  592204836038311937  RT @AmeriCares: #Nepal is a very poor country ...   \n",
       "\n",
       "      labels  \n",
       "0          1  \n",
       "1         -1  \n",
       "10        -1  \n",
       "100       -1  \n",
       "1000      -1  "
      ]
     },
     "execution_count": 2,
     "metadata": {},
     "output_type": "execute_result"
    }
   ],
   "source": [
    "ds=pd.read_json('../dataset/Tweet-Fact-Not-Fact.jsonl')\n",
    "ds.head()"
   ]
  },
  {
   "cell_type": "code",
   "execution_count": 3,
   "metadata": {
    "run_control": {
     "marked": true
    }
   },
   "outputs": [],
   "source": [
    "df=ds.loc[ds['labels']!=-1]\n",
    "df = df.sample(frac=1).reset_index(drop=True)"
   ]
  },
  {
   "cell_type": "code",
   "execution_count": 4,
   "metadata": {},
   "outputs": [],
   "source": [
    "total_len=len(df)"
   ]
  },
  {
   "cell_type": "code",
   "execution_count": 5,
   "metadata": {},
   "outputs": [
    {
     "data": {
      "text/plain": [
       "1548"
      ]
     },
     "execution_count": 5,
     "metadata": {},
     "output_type": "execute_result"
    }
   ],
   "source": [
    "total_len"
   ]
  },
  {
   "cell_type": "code",
   "execution_count": 6,
   "metadata": {
    "run_control": {
     "marked": false
    }
   },
   "outputs": [],
   "source": [
    "txt=''\n",
    "for ix in range(total_len):\n",
    "    pre.set_options(pre.OPT.URL, pre.OPT.EMOJI,pre.OPT.SMILEY,pre.OPT.MENTION,pre.OPT.HASHTAG)\n",
    "    tweet=pre.clean(df.text[ix].replace(\"\\n\",\"\"))\n",
    "    line=f'__label__{df.labels[ix]} {tweet}\\n'\n",
    "    txt=txt+line\n",
    "file=open('../../fastText/experiments/input/Tweets_labels.txt','w')\n",
    "file.write(txt[:-1])\n",
    "file.close()"
   ]
  },
  {
   "cell_type": "code",
   "execution_count": null,
   "metadata": {},
   "outputs": [],
   "source": []
  },
  {
   "cell_type": "markdown",
   "metadata": {},
   "source": [
    "# fast text"
   ]
  },
  {
   "cell_type": "code",
   "execution_count": 4,
   "metadata": {
    "run_control": {
     "marked": true
    },
    "scrolled": true
   },
   "outputs": [
    {
     "data": {
      "text/html": [
       "<div>\n",
       "<style scoped>\n",
       "    .dataframe tbody tr th:only-of-type {\n",
       "        vertical-align: middle;\n",
       "    }\n",
       "\n",
       "    .dataframe tbody tr th {\n",
       "        vertical-align: top;\n",
       "    }\n",
       "\n",
       "    .dataframe thead th {\n",
       "        text-align: right;\n",
       "    }\n",
       "</style>\n",
       "<table border=\"1\" class=\"dataframe\">\n",
       "  <thead>\n",
       "    <tr style=\"text-align: right;\">\n",
       "      <th></th>\n",
       "      <th>id</th>\n",
       "      <th>text</th>\n",
       "      <th>labels</th>\n",
       "    </tr>\n",
       "  </thead>\n",
       "  <tbody>\n",
       "    <tr>\n",
       "      <th>0</th>\n",
       "      <td>591974898139987968</td>\n",
       "      <td>RT @Economynext: #SriLanka to fly emergency me...</td>\n",
       "      <td>1</td>\n",
       "    </tr>\n",
       "    <tr>\n",
       "      <th>1</th>\n",
       "      <td>591979323164233729</td>\n",
       "      <td>India committed in aid to Nepal: President Pra...</td>\n",
       "      <td>-1</td>\n",
       "    </tr>\n",
       "    <tr>\n",
       "      <th>10</th>\n",
       "      <td>591977175768698881</td>\n",
       "      <td>RT @iamamkay: need all out support @nytimes: N...</td>\n",
       "      <td>-1</td>\n",
       "    </tr>\n",
       "    <tr>\n",
       "      <th>100</th>\n",
       "      <td>591996410792321024</td>\n",
       "      <td>RT @MERCYMalaysia: MERCY Malaysia will be resp...</td>\n",
       "      <td>-1</td>\n",
       "    </tr>\n",
       "    <tr>\n",
       "      <th>1000</th>\n",
       "      <td>592204836038311937</td>\n",
       "      <td>RT @AmeriCares: #Nepal is a very poor country ...</td>\n",
       "      <td>-1</td>\n",
       "    </tr>\n",
       "  </tbody>\n",
       "</table>\n",
       "</div>"
      ],
      "text/plain": [
       "                      id                                               text  \\\n",
       "0     591974898139987968  RT @Economynext: #SriLanka to fly emergency me...   \n",
       "1     591979323164233729  India committed in aid to Nepal: President Pra...   \n",
       "10    591977175768698881  RT @iamamkay: need all out support @nytimes: N...   \n",
       "100   591996410792321024  RT @MERCYMalaysia: MERCY Malaysia will be resp...   \n",
       "1000  592204836038311937  RT @AmeriCares: #Nepal is a very poor country ...   \n",
       "\n",
       "      labels  \n",
       "0          1  \n",
       "1         -1  \n",
       "10        -1  \n",
       "100       -1  \n",
       "1000      -1  "
      ]
     },
     "execution_count": 4,
     "metadata": {},
     "output_type": "execute_result"
    }
   ],
   "source": [
    "ds.head()"
   ]
  },
  {
   "cell_type": "code",
   "execution_count": 5,
   "metadata": {
    "run_control": {
     "marked": true
    }
   },
   "outputs": [],
   "source": [
    "from fastText import FastText\n",
    "m=FastText.load_model('../../fastText/experiments/result/fire_1500model.bin')"
   ]
  },
  {
   "cell_type": "code",
   "execution_count": 29,
   "metadata": {},
   "outputs": [],
   "source": [
    "ds['scores']=np.zeros((len(ds)))\n",
    "for ix in range(len(ds)):\n",
    "    pre.set_options(pre.OPT.URL, pre.OPT.EMOJI,pre.OPT.SMILEY,pre.OPT.MENTION,pre.OPT.HASHTAG)\n",
    "    prediction=m.predict(pre.clean(ds.text[ix].replace('\\n','')))\n",
    "    if prediction[0][0]=='__label__1':\n",
    "        sc=float(prediction[1][0])\n",
    "        if sc>1.0:\n",
    "            sc=1.0\n",
    "        ds.loc[ix,'scores']=sc\n",
    "    else:\n",
    "        sc=float(1.0-float(prediction[1][0]))\n",
    "        ds.loc[ix,'scores']=sc\n",
    "#scores=np.array(scores)\n",
    "#scores=np.minimum(scores,1.0)\n"
   ]
  },
  {
   "cell_type": "code",
   "execution_count": 4,
   "metadata": {},
   "outputs": [],
   "source": [
    "import spacy\n",
    "nlp = spacy.load('en_core_web_sm')"
   ]
  },
  {
   "cell_type": "code",
   "execution_count": 8,
   "metadata": {},
   "outputs": [],
   "source": [
    "id2tweet={}\n",
    "id2vec={}\n",
    "for ix in range(len(ds)):\n",
    "    pre.set_options(pre.OPT.URL, pre.OPT.EMOJI,pre.OPT.SMILEY,pre.OPT.MENTION,pre.OPT.HASHTAG)\n",
    "    tweet=pre.clean(ds.text[ix].replace(\"\\n\",\" \"))\n",
    "    id2tweet[ds.id[ix]]=tweet\n",
    "    id2vec[ds.id[ix]]=m.get_sentence_vector(tweet)\n",
    "    "
   ]
  },
  {
   "cell_type": "code",
   "execution_count": 5,
   "metadata": {
    "run_control": {
     "marked": false
    },
    "scrolled": true
   },
   "outputs": [
    {
     "name": "stdout",
     "output_type": "stream",
     "text": [
      "0\n",
      "5000\n",
      "10000\n",
      "15000\n",
      "20000\n",
      "25000\n",
      "30000\n",
      "35000\n",
      "40000\n",
      "45000\n",
      "50000\n"
     ]
    }
   ],
   "source": [
    "ds['pnouns']=np.zeros((len(ds)))\n",
    "ds['numbers']=np.zeros((len(ds)))\n",
    "ds['ent']=np.zeros((len(ds)))\n",
    "for ix in range(len(ds)):\n",
    "    if (ix%5000==0):\n",
    "        print (ix)\n",
    "    pre.set_options(pre.OPT.URL, pre.OPT.EMOJI,pre.OPT.SMILEY,pre.OPT.MENTION,pre.OPT.HASHTAG)\n",
    "    sent=(pre.clean(ds.text[ix].replace('\\n','')))\n",
    "    doc=nlp(sent)\n",
    "    pnoun=0\n",
    "    num=0\n",
    "    for token in doc:\n",
    "        if (token.pos_ == \"PROPN\") :\n",
    "            pnoun+=1\n",
    "        if (token.pos_ == \"NUM\"):\n",
    "            num+=1\n",
    "    ds.loc[ix,'pnouns']=pnoun\n",
    "    ds.loc[ix,'ent']=len(doc.ents)\n",
    "    ds.loc[ix,'numbers']=num\n",
    "    \n"
   ]
  },
  {
   "cell_type": "code",
   "execution_count": 7,
   "metadata": {},
   "outputs": [
    {
     "data": {
      "text/plain": [
       "18.0"
      ]
     },
     "execution_count": 7,
     "metadata": {},
     "output_type": "execute_result"
    }
   ],
   "source": [
    "ds.pnouns.max()"
   ]
  },
  {
   "cell_type": "code",
   "execution_count": 20,
   "metadata": {},
   "outputs": [
    {
     "data": {
      "text/html": [
       "<div>\n",
       "<style scoped>\n",
       "    .dataframe tbody tr th:only-of-type {\n",
       "        vertical-align: middle;\n",
       "    }\n",
       "\n",
       "    .dataframe tbody tr th {\n",
       "        vertical-align: top;\n",
       "    }\n",
       "\n",
       "    .dataframe thead th {\n",
       "        text-align: right;\n",
       "    }\n",
       "</style>\n",
       "<table border=\"1\" class=\"dataframe\">\n",
       "  <thead>\n",
       "    <tr style=\"text-align: right;\">\n",
       "      <th></th>\n",
       "      <th>id</th>\n",
       "      <th>text</th>\n",
       "      <th>labels</th>\n",
       "      <th>scores</th>\n",
       "      <th>pnouns</th>\n",
       "      <th>numbers</th>\n",
       "      <th>ent</th>\n",
       "    </tr>\n",
       "  </thead>\n",
       "  <tbody>\n",
       "    <tr>\n",
       "      <th>0</th>\n",
       "      <td>591974898139987968</td>\n",
       "      <td>RT @Economynext: #SriLanka to fly emergency me...</td>\n",
       "      <td>1</td>\n",
       "      <td>0.999413</td>\n",
       "      <td>1.0</td>\n",
       "      <td>0.0</td>\n",
       "      <td>1.0</td>\n",
       "    </tr>\n",
       "    <tr>\n",
       "      <th>1</th>\n",
       "      <td>591979323164233729</td>\n",
       "      <td>India committed in aid to Nepal: President Pra...</td>\n",
       "      <td>-1</td>\n",
       "      <td>0.999755</td>\n",
       "      <td>9.0</td>\n",
       "      <td>0.0</td>\n",
       "      <td>5.0</td>\n",
       "    </tr>\n",
       "    <tr>\n",
       "      <th>10</th>\n",
       "      <td>591977175768698881</td>\n",
       "      <td>RT @iamamkay: need all out support @nytimes: N...</td>\n",
       "      <td>-1</td>\n",
       "      <td>0.000000</td>\n",
       "      <td>1.0</td>\n",
       "      <td>1.0</td>\n",
       "      <td>3.0</td>\n",
       "    </tr>\n",
       "    <tr>\n",
       "      <th>100</th>\n",
       "      <td>591996410792321024</td>\n",
       "      <td>RT @MERCYMalaysia: MERCY Malaysia will be resp...</td>\n",
       "      <td>-1</td>\n",
       "      <td>0.000000</td>\n",
       "      <td>4.0</td>\n",
       "      <td>0.0</td>\n",
       "      <td>2.0</td>\n",
       "    </tr>\n",
       "    <tr>\n",
       "      <th>1000</th>\n",
       "      <td>592204836038311937</td>\n",
       "      <td>RT @AmeriCares: #Nepal is a very poor country ...</td>\n",
       "      <td>-1</td>\n",
       "      <td>0.000000</td>\n",
       "      <td>1.0</td>\n",
       "      <td>0.0</td>\n",
       "      <td>2.0</td>\n",
       "    </tr>\n",
       "  </tbody>\n",
       "</table>\n",
       "</div>"
      ],
      "text/plain": [
       "                      id                                               text  \\\n",
       "0     591974898139987968  RT @Economynext: #SriLanka to fly emergency me...   \n",
       "1     591979323164233729  India committed in aid to Nepal: President Pra...   \n",
       "10    591977175768698881  RT @iamamkay: need all out support @nytimes: N...   \n",
       "100   591996410792321024  RT @MERCYMalaysia: MERCY Malaysia will be resp...   \n",
       "1000  592204836038311937  RT @AmeriCares: #Nepal is a very poor country ...   \n",
       "\n",
       "      labels    scores  pnouns  numbers  ent  \n",
       "0          1  0.999413     1.0      0.0  1.0  \n",
       "1         -1  0.999755     9.0      0.0  5.0  \n",
       "10        -1  0.000000     1.0      1.0  3.0  \n",
       "100       -1  0.000000     4.0      0.0  2.0  \n",
       "1000      -1  0.000000     1.0      0.0  2.0  "
      ]
     },
     "execution_count": 20,
     "metadata": {},
     "output_type": "execute_result"
    }
   ],
   "source": [
    "ds.head()"
   ]
  },
  {
   "cell_type": "code",
   "execution_count": 30,
   "metadata": {
    "scrolled": true
   },
   "outputs": [],
   "source": [
    "ds_sorted=ds.sort_values('scores',ascending=False).reset_index(drop=True)"
   ]
  },
  {
   "cell_type": "code",
   "execution_count": 31,
   "metadata": {},
   "outputs": [
    {
     "data": {
      "text/html": [
       "<div>\n",
       "<style scoped>\n",
       "    .dataframe tbody tr th:only-of-type {\n",
       "        vertical-align: middle;\n",
       "    }\n",
       "\n",
       "    .dataframe tbody tr th {\n",
       "        vertical-align: top;\n",
       "    }\n",
       "\n",
       "    .dataframe thead th {\n",
       "        text-align: right;\n",
       "    }\n",
       "</style>\n",
       "<table border=\"1\" class=\"dataframe\">\n",
       "  <thead>\n",
       "    <tr style=\"text-align: right;\">\n",
       "      <th></th>\n",
       "      <th>id</th>\n",
       "      <th>text</th>\n",
       "      <th>labels</th>\n",
       "      <th>scores</th>\n",
       "      <th>pnouns</th>\n",
       "      <th>numbers</th>\n",
       "      <th>ent</th>\n",
       "    </tr>\n",
       "  </thead>\n",
       "  <tbody>\n",
       "    <tr>\n",
       "      <th>0</th>\n",
       "      <td>592219443742134272</td>\n",
       "      <td>RT @RadioPakistan: Pakistan sends medical and ...</td>\n",
       "      <td>-1</td>\n",
       "      <td>1.0</td>\n",
       "      <td>3.0</td>\n",
       "      <td>0.0</td>\n",
       "      <td>2.0</td>\n",
       "    </tr>\n",
       "    <tr>\n",
       "      <th>1</th>\n",
       "      <td>594082185763749888</td>\n",
       "      <td>7.1 magnitude earthquake hits Papua New Guinea...</td>\n",
       "      <td>-1</td>\n",
       "      <td>1.0</td>\n",
       "      <td>9.0</td>\n",
       "      <td>1.0</td>\n",
       "      <td>3.0</td>\n",
       "    </tr>\n",
       "    <tr>\n",
       "      <th>2</th>\n",
       "      <td>594389980580958209</td>\n",
       "      <td>Nepal quake: Death toll rises to 6,624: The de...</td>\n",
       "      <td>-1</td>\n",
       "      <td>1.0</td>\n",
       "      <td>1.0</td>\n",
       "      <td>2.0</td>\n",
       "      <td>4.0</td>\n",
       "    </tr>\n",
       "    <tr>\n",
       "      <th>3</th>\n",
       "      <td>595426274102870016</td>\n",
       "      <td>RT @firstpost: Strong earthquake of magnitude ...</td>\n",
       "      <td>-1</td>\n",
       "      <td>1.0</td>\n",
       "      <td>4.0</td>\n",
       "      <td>1.0</td>\n",
       "      <td>2.0</td>\n",
       "    </tr>\n",
       "    <tr>\n",
       "      <th>4</th>\n",
       "      <td>593106696131596288</td>\n",
       "      <td>Nepal earthquake: Death toll crosses 5,000 mar...</td>\n",
       "      <td>-1</td>\n",
       "      <td>1.0</td>\n",
       "      <td>0.0</td>\n",
       "      <td>1.0</td>\n",
       "      <td>1.0</td>\n",
       "    </tr>\n",
       "  </tbody>\n",
       "</table>\n",
       "</div>"
      ],
      "text/plain": [
       "                   id                                               text  \\\n",
       "0  592219443742134272  RT @RadioPakistan: Pakistan sends medical and ...   \n",
       "1  594082185763749888  7.1 magnitude earthquake hits Papua New Guinea...   \n",
       "2  594389980580958209  Nepal quake: Death toll rises to 6,624: The de...   \n",
       "3  595426274102870016  RT @firstpost: Strong earthquake of magnitude ...   \n",
       "4  593106696131596288  Nepal earthquake: Death toll crosses 5,000 mar...   \n",
       "\n",
       "   labels  scores  pnouns  numbers  ent  \n",
       "0      -1     1.0     3.0      0.0  2.0  \n",
       "1      -1     1.0     9.0      1.0  3.0  \n",
       "2      -1     1.0     1.0      2.0  4.0  \n",
       "3      -1     1.0     4.0      1.0  2.0  \n",
       "4      -1     1.0     0.0      1.0  1.0  "
      ]
     },
     "execution_count": 31,
     "metadata": {},
     "output_type": "execute_result"
    }
   ],
   "source": [
    "ds_sorted.head()"
   ]
  },
  {
   "cell_type": "code",
   "execution_count": 37,
   "metadata": {
    "run_control": {
     "marked": true
    }
   },
   "outputs": [],
   "source": [
    "data_test=ds.loc[ds['labels']!=-1].reset_index(drop=True)"
   ]
  },
  {
   "cell_type": "code",
   "execution_count": 45,
   "metadata": {},
   "outputs": [],
   "source": [
    "pnouns_max=ds.pnouns.max()\n",
    "numbers_max=ds.numbers.max()\n",
    "ent_max=ds.ent.max()"
   ]
  },
  {
   "cell_type": "code",
   "execution_count": 72,
   "metadata": {},
   "outputs": [],
   "source": [
    "ds['combined']=np.zeros((len(ds)))\n",
    "for ix in range(len(ds)):\n",
    "    sc=ds.scores[ix]\n",
    "    pn=ds.pnouns[ix]/(pnouns_max) \n",
    "    num=ds.numbers[ix]/(numbers_max)\n",
    "    ent=ds.ent[ix]/ent_max\n",
    "    a,b,c,d=0.7,0.1,0.1,0.1\n",
    "    combined_score=a*sc+b*pn+c*num+d*ent\n",
    "    ds.loc[ix,'combined']=combined_score"
   ]
  },
  {
   "cell_type": "code",
   "execution_count": 73,
   "metadata": {},
   "outputs": [],
   "source": [
    "fire_final=ds.sort_values('combined',ascending=False).reset_index(drop=True)"
   ]
  },
  {
   "cell_type": "code",
   "execution_count": 65,
   "metadata": {},
   "outputs": [
    {
     "data": {
      "text/plain": [
       "id                                         592251449054076928\n",
       "text        RSS have sent 20000 swyamsevak to Nepal. Shiro...\n",
       "labels                                                     -1\n",
       "scores                                               0.998932\n",
       "pnouns                                                      5\n",
       "numbers                                                     2\n",
       "ent                                                         6\n",
       "combined                                             0.792415\n",
       "Name: 16, dtype: object"
      ]
     },
     "execution_count": 65,
     "metadata": {},
     "output_type": "execute_result"
    }
   ],
   "source": [
    "fire_final.loc[16]"
   ]
  },
  {
   "cell_type": "code",
   "execution_count": 71,
   "metadata": {},
   "outputs": [
    {
     "data": {
      "text/plain": [
       "0"
      ]
     },
     "execution_count": 71,
     "metadata": {},
     "output_type": "execute_result"
    }
   ],
   "source": [
    "max(0,-0.01)"
   ]
  },
  {
   "cell_type": "code",
   "execution_count": 74,
   "metadata": {
    "run_control": {
     "marked": true
    }
   },
   "outputs": [],
   "source": [
    "txt=''\n",
    "for ix in range(len(fire_final)):\n",
    "    row=fire_final.loc[ix]\n",
    "    sent=f'Nepal_Factual Q0 {row.id} {ix} {max(0.0,row.combined)} MIDAS_1\\n'\n",
    "    txt=txt+sent\n",
    "file=open('../MIDAS_SEMI_AUTO.txt','w')\n",
    "file.write(txt[:-1])\n",
    "file.close()  "
   ]
  },
  {
   "cell_type": "code",
   "execution_count": 59,
   "metadata": {},
   "outputs": [
    {
     "data": {
      "text/plain": [
       "'RT @Economynext: #SriLanka to fly emergency medical help, food to #earthquake -struck #Nepal #lka #Economynext http://t.co/t6F2RXD4tj http:…'"
      ]
     },
     "execution_count": 59,
     "metadata": {},
     "output_type": "execute_result"
    }
   ],
   "source": [
    "ds.loc[0].text"
   ]
  },
  {
   "cell_type": "code",
   "execution_count": 75,
   "metadata": {},
   "outputs": [],
   "source": [
    "fire_unsup=ds.copy()"
   ]
  },
  {
   "cell_type": "code",
   "execution_count": 77,
   "metadata": {},
   "outputs": [],
   "source": [
    "fire_unsup['combined']=np.zeros((len(ds)))\n",
    "for ix in range(len(ds)):\n",
    "    #sc=fire_unsup.scores[ix]\n",
    "    pn=fire_unsup.pnouns[ix]/(pnouns_max) \n",
    "    num=fire_unsup.numbers[ix]/(numbers_max)\n",
    "    ent=fire_unsup.ent[ix]/ent_max\n",
    "    b,c,d=0.33,0.33,0.33\n",
    "    combined_score=b*pn+c*num+d*ent\n",
    "    fire_unsup.loc[ix,'combined']=combined_score"
   ]
  },
  {
   "cell_type": "code",
   "execution_count": 81,
   "metadata": {},
   "outputs": [],
   "source": [
    "fire_unsup_sort=fire_unsup.sort_values('combined',ascending=False).reset_index(drop=False)"
   ]
  },
  {
   "cell_type": "code",
   "execution_count": 83,
   "metadata": {},
   "outputs": [],
   "source": [
    "txt=''\n",
    "for ix in range(len(fire_final)):\n",
    "    row=fire_unsup_sort.loc[ix]\n",
    "    sent=f'Nepal_Factual Q0 {row.id} {ix} {max(0.0,row.combined)} MIDAS_2\\n'\n",
    "    txt=txt+sent\n",
    "file=open('../MIDAS_UNSUPERVISED.txt','w')\n",
    "file.write(txt[:-1])\n",
    "file.close()  "
   ]
  },
  {
   "cell_type": "code",
   "execution_count": null,
   "metadata": {},
   "outputs": [],
   "source": []
  }
 ],
 "metadata": {
  "kernelspec": {
   "display_name": "Python 3",
   "language": "python",
   "name": "python3"
  },
  "language_info": {
   "codemirror_mode": {
    "name": "ipython",
    "version": 3
   },
   "file_extension": ".py",
   "mimetype": "text/x-python",
   "name": "python",
   "nbconvert_exporter": "python",
   "pygments_lexer": "ipython3",
   "version": "3.6.5"
  },
  "latex_envs": {
   "LaTeX_envs_menu_present": true,
   "autoclose": true,
   "autocomplete": true,
   "bibliofile": "biblio.bib",
   "cite_by": "apalike",
   "current_citInitial": 1,
   "eqLabelWithNumbers": true,
   "eqNumInitial": 1,
   "hotkeys": {
    "equation": "Ctrl-E",
    "itemize": "Ctrl-I"
   },
   "labels_anchors": false,
   "latex_user_defs": false,
   "report_style_numbering": false,
   "user_envs_cfg": false
  }
 },
 "nbformat": 4,
 "nbformat_minor": 2
}
